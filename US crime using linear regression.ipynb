{
 "cells": [
  {
   "cell_type": "markdown",
   "metadata": {},
   "source": [
    "<h1><center> US crime data analysis using linear regression </center></h1>"
   ]
  },
  {
   "cell_type": "markdown",
   "metadata": {},
   "source": [
    "### Data source\n",
    "Using crime data from http://www.statsci.org/data/general/uscrime.txt (file uscrime.txt)\n",
    "\n",
    "description at http://www.statsci.org/data/general/uscrime.html )"
   ]
  },
  {
   "cell_type": "markdown",
   "metadata": {},
   "source": [
    "We will first explore our data then use `lm` R Function to build a regression model. We will then use the our model to predict the crime rate for our test city"
   ]
  },
  {
   "cell_type": "code",
   "execution_count": 2,
   "metadata": {},
   "outputs": [
    {
     "name": "stdout",
     "output_type": "stream",
     "text": [
      "package 'dplyr' successfully unpacked and MD5 sums checked\n",
      "\n",
      "The downloaded binary packages are in\n",
      "\tC:\\Users\\Siham\\AppData\\Local\\Temp\\Rtmpuw3DhL\\downloaded_packages\n"
     ]
    }
   ],
   "source": [
    "# load dplyr\n",
    "suppressWarnings(suppressMessages(install.packages(\"dplyr\")))\n",
    "suppressWarnings(suppressMessages(library(dplyr)))\n",
    "\n",
    "# Read data into a tibble\n",
    "uscrime = read.table('uscrime.txt', sep = '\\t', header=T) %>% as_tibble()"
   ]
  },
  {
   "cell_type": "code",
   "execution_count": 3,
   "metadata": {},
   "outputs": [
    {
     "data": {
      "text/html": [
       "<table>\n",
       "<thead><tr><th scope=col>M</th><th scope=col>So</th><th scope=col>Ed</th><th scope=col>Po1</th><th scope=col>Po2</th><th scope=col>LF</th><th scope=col>M.F</th><th scope=col>Pop</th><th scope=col>NW</th><th scope=col>U1</th><th scope=col>U2</th><th scope=col>Wealth</th><th scope=col>Ineq</th><th scope=col>Prob</th><th scope=col>Time</th><th scope=col>Crime</th></tr></thead>\n",
       "<tbody>\n",
       "\t<tr><td>15.1    </td><td>1       </td><td> 9.1    </td><td> 5.8    </td><td> 5.6    </td><td>0.510   </td><td> 95.0   </td><td> 33     </td><td>30.1    </td><td>0.108   </td><td>4.1     </td><td>3940    </td><td>26.1    </td><td>0.084602</td><td>26.2011 </td><td> 791    </td></tr>\n",
       "\t<tr><td>14.3    </td><td>0       </td><td>11.3    </td><td>10.3    </td><td> 9.5    </td><td>0.583   </td><td>101.2   </td><td> 13     </td><td>10.2    </td><td>0.096   </td><td>3.6     </td><td>5570    </td><td>19.4    </td><td>0.029599</td><td>25.2999 </td><td>1635    </td></tr>\n",
       "\t<tr><td>14.2    </td><td>1       </td><td> 8.9    </td><td> 4.5    </td><td> 4.4    </td><td>0.533   </td><td> 96.9   </td><td> 18     </td><td>21.9    </td><td>0.094   </td><td>3.3     </td><td>3180    </td><td>25.0    </td><td>0.083401</td><td>24.3006 </td><td> 578    </td></tr>\n",
       "\t<tr><td>13.6    </td><td>0       </td><td>12.1    </td><td>14.9    </td><td>14.1    </td><td>0.577   </td><td> 99.4   </td><td>157     </td><td> 8.0    </td><td>0.102   </td><td>3.9     </td><td>6730    </td><td>16.7    </td><td>0.015801</td><td>29.9012 </td><td>1969    </td></tr>\n",
       "\t<tr><td>14.1    </td><td>0       </td><td>12.1    </td><td>10.9    </td><td>10.1    </td><td>0.591   </td><td> 98.5   </td><td> 18     </td><td> 3.0    </td><td>0.091   </td><td>2.0     </td><td>5780    </td><td>17.4    </td><td>0.041399</td><td>21.2998 </td><td>1234    </td></tr>\n",
       "</tbody>\n",
       "</table>\n"
      ],
      "text/latex": [
       "\\begin{tabular}{r|llllllllllllllll}\n",
       " M & So & Ed & Po1 & Po2 & LF & M.F & Pop & NW & U1 & U2 & Wealth & Ineq & Prob & Time & Crime\\\\\n",
       "\\hline\n",
       "\t 15.1     & 1        &  9.1     &  5.8     &  5.6     & 0.510    &  95.0    &  33      & 30.1     & 0.108    & 4.1      & 3940     & 26.1     & 0.084602 & 26.2011  &  791    \\\\\n",
       "\t 14.3     & 0        & 11.3     & 10.3     &  9.5     & 0.583    & 101.2    &  13      & 10.2     & 0.096    & 3.6      & 5570     & 19.4     & 0.029599 & 25.2999  & 1635    \\\\\n",
       "\t 14.2     & 1        &  8.9     &  4.5     &  4.4     & 0.533    &  96.9    &  18      & 21.9     & 0.094    & 3.3      & 3180     & 25.0     & 0.083401 & 24.3006  &  578    \\\\\n",
       "\t 13.6     & 0        & 12.1     & 14.9     & 14.1     & 0.577    &  99.4    & 157      &  8.0     & 0.102    & 3.9      & 6730     & 16.7     & 0.015801 & 29.9012  & 1969    \\\\\n",
       "\t 14.1     & 0        & 12.1     & 10.9     & 10.1     & 0.591    &  98.5    &  18      &  3.0     & 0.091    & 2.0      & 5780     & 17.4     & 0.041399 & 21.2998  & 1234    \\\\\n",
       "\\end{tabular}\n"
      ],
      "text/markdown": [
       "\n",
       "| M | So | Ed | Po1 | Po2 | LF | M.F | Pop | NW | U1 | U2 | Wealth | Ineq | Prob | Time | Crime |\n",
       "|---|---|---|---|---|---|---|---|---|---|---|---|---|---|---|---|\n",
       "| 15.1     | 1        |  9.1     |  5.8     |  5.6     | 0.510    |  95.0    |  33      | 30.1     | 0.108    | 4.1      | 3940     | 26.1     | 0.084602 | 26.2011  |  791     |\n",
       "| 14.3     | 0        | 11.3     | 10.3     |  9.5     | 0.583    | 101.2    |  13      | 10.2     | 0.096    | 3.6      | 5570     | 19.4     | 0.029599 | 25.2999  | 1635     |\n",
       "| 14.2     | 1        |  8.9     |  4.5     |  4.4     | 0.533    |  96.9    |  18      | 21.9     | 0.094    | 3.3      | 3180     | 25.0     | 0.083401 | 24.3006  |  578     |\n",
       "| 13.6     | 0        | 12.1     | 14.9     | 14.1     | 0.577    |  99.4    | 157      |  8.0     | 0.102    | 3.9      | 6730     | 16.7     | 0.015801 | 29.9012  | 1969     |\n",
       "| 14.1     | 0        | 12.1     | 10.9     | 10.1     | 0.591    |  98.5    |  18      |  3.0     | 0.091    | 2.0      | 5780     | 17.4     | 0.041399 | 21.2998  | 1234     |\n",
       "\n"
      ],
      "text/plain": [
       "  M    So Ed   Po1  Po2  LF    M.F   Pop NW   U1    U2  Wealth Ineq Prob    \n",
       "1 15.1 1   9.1  5.8  5.6 0.510  95.0  33 30.1 0.108 4.1 3940   26.1 0.084602\n",
       "2 14.3 0  11.3 10.3  9.5 0.583 101.2  13 10.2 0.096 3.6 5570   19.4 0.029599\n",
       "3 14.2 1   8.9  4.5  4.4 0.533  96.9  18 21.9 0.094 3.3 3180   25.0 0.083401\n",
       "4 13.6 0  12.1 14.9 14.1 0.577  99.4 157  8.0 0.102 3.9 6730   16.7 0.015801\n",
       "5 14.1 0  12.1 10.9 10.1 0.591  98.5  18  3.0 0.091 2.0 5780   17.4 0.041399\n",
       "  Time    Crime\n",
       "1 26.2011  791 \n",
       "2 25.2999 1635 \n",
       "3 24.3006  578 \n",
       "4 29.9012 1969 \n",
       "5 21.2998 1234 "
      ]
     },
     "metadata": {},
     "output_type": "display_data"
    },
    {
     "data": {
      "text/plain": [
       "       M               So               Ed             Po1       \n",
       " Min.   :11.90   Min.   :0.0000   Min.   : 8.70   Min.   : 4.50  \n",
       " 1st Qu.:13.00   1st Qu.:0.0000   1st Qu.: 9.75   1st Qu.: 6.25  \n",
       " Median :13.60   Median :0.0000   Median :10.80   Median : 7.80  \n",
       " Mean   :13.86   Mean   :0.3404   Mean   :10.56   Mean   : 8.50  \n",
       " 3rd Qu.:14.60   3rd Qu.:1.0000   3rd Qu.:11.45   3rd Qu.:10.45  \n",
       " Max.   :17.70   Max.   :1.0000   Max.   :12.20   Max.   :16.60  \n",
       "      Po2               LF              M.F              Pop        \n",
       " Min.   : 4.100   Min.   :0.4800   Min.   : 93.40   Min.   :  3.00  \n",
       " 1st Qu.: 5.850   1st Qu.:0.5305   1st Qu.: 96.45   1st Qu.: 10.00  \n",
       " Median : 7.300   Median :0.5600   Median : 97.70   Median : 25.00  \n",
       " Mean   : 8.023   Mean   :0.5612   Mean   : 98.30   Mean   : 36.62  \n",
       " 3rd Qu.: 9.700   3rd Qu.:0.5930   3rd Qu.: 99.20   3rd Qu.: 41.50  \n",
       " Max.   :15.700   Max.   :0.6410   Max.   :107.10   Max.   :168.00  \n",
       "       NW              U1                U2            Wealth    \n",
       " Min.   : 0.20   Min.   :0.07000   Min.   :2.000   Min.   :2880  \n",
       " 1st Qu.: 2.40   1st Qu.:0.08050   1st Qu.:2.750   1st Qu.:4595  \n",
       " Median : 7.60   Median :0.09200   Median :3.400   Median :5370  \n",
       " Mean   :10.11   Mean   :0.09547   Mean   :3.398   Mean   :5254  \n",
       " 3rd Qu.:13.25   3rd Qu.:0.10400   3rd Qu.:3.850   3rd Qu.:5915  \n",
       " Max.   :42.30   Max.   :0.14200   Max.   :5.800   Max.   :6890  \n",
       "      Ineq            Prob              Time           Crime       \n",
       " Min.   :12.60   Min.   :0.00690   Min.   :12.20   Min.   : 342.0  \n",
       " 1st Qu.:16.55   1st Qu.:0.03270   1st Qu.:21.60   1st Qu.: 658.5  \n",
       " Median :17.60   Median :0.04210   Median :25.80   Median : 831.0  \n",
       " Mean   :19.40   Mean   :0.04709   Mean   :26.60   Mean   : 905.1  \n",
       " 3rd Qu.:22.75   3rd Qu.:0.05445   3rd Qu.:30.45   3rd Qu.:1057.5  \n",
       " Max.   :27.60   Max.   :0.11980   Max.   :44.00   Max.   :1993.0  "
      ]
     },
     "metadata": {},
     "output_type": "display_data"
    }
   ],
   "source": [
    "# Explore the data\n",
    "head(uscrime,5)\n",
    "summary(uscrime)"
   ]
  },
  {
   "cell_type": "code",
   "execution_count": 4,
   "metadata": {},
   "outputs": [
    {
     "data": {
      "text/html": [
       "<table>\n",
       "<thead><tr><th></th><th scope=col>.</th></tr></thead>\n",
       "<tbody>\n",
       "\t<tr><th scope=row>(Intercept)</th><td>5.984288e+03</td></tr>\n",
       "\t<tr><th scope=row>M</th><td>8.783017e+01</td></tr>\n",
       "\t<tr><th scope=row>So</th><td>3.803450e+00</td></tr>\n",
       "\t<tr><th scope=row>Ed</th><td>1.883243e+02</td></tr>\n",
       "\t<tr><th scope=row>Po1</th><td>1.928043e+02</td></tr>\n",
       "\t<tr><th scope=row>Po2</th><td>1.094219e+02</td></tr>\n",
       "\t<tr><th scope=row>LF</th><td>6.638261e+02</td></tr>\n",
       "\t<tr><th scope=row>M.F</th><td>1.740686e+01</td></tr>\n",
       "\t<tr><th scope=row>Pop</th><td>7.330081e-01</td></tr>\n",
       "\t<tr><th scope=row>NW</th><td>4.204461e+00</td></tr>\n",
       "\t<tr><th scope=row>U1</th><td>5.827103e+03</td></tr>\n",
       "\t<tr><th scope=row>U2</th><td>1.677997e+02</td></tr>\n",
       "\t<tr><th scope=row>Wealth</th><td>9.616624e-02</td></tr>\n",
       "\t<tr><th scope=row>Ineq</th><td>7.067210e+01</td></tr>\n",
       "\t<tr><th scope=row>Prob</th><td>4.855266e+03</td></tr>\n",
       "\t<tr><th scope=row>Time</th><td>3.479018e+00</td></tr>\n",
       "</tbody>\n",
       "</table>\n"
      ],
      "text/latex": [
       "\\begin{tabular}{r|l}\n",
       "  & .\\\\\n",
       "\\hline\n",
       "\t(Intercept) & 5.984288e+03\\\\\n",
       "\tM & 8.783017e+01\\\\\n",
       "\tSo & 3.803450e+00\\\\\n",
       "\tEd & 1.883243e+02\\\\\n",
       "\tPo1 & 1.928043e+02\\\\\n",
       "\tPo2 & 1.094219e+02\\\\\n",
       "\tLF & 6.638261e+02\\\\\n",
       "\tM.F & 1.740686e+01\\\\\n",
       "\tPop & 7.330081e-01\\\\\n",
       "\tNW & 4.204461e+00\\\\\n",
       "\tU1 & 5.827103e+03\\\\\n",
       "\tU2 & 1.677997e+02\\\\\n",
       "\tWealth & 9.616624e-02\\\\\n",
       "\tIneq & 7.067210e+01\\\\\n",
       "\tProb & 4.855266e+03\\\\\n",
       "\tTime & 3.479018e+00\\\\\n",
       "\\end{tabular}\n"
      ],
      "text/markdown": [
       "\n",
       "| <!--/--> | . |\n",
       "|---|---|\n",
       "| (Intercept) | 5.984288e+03 |\n",
       "| M | 8.783017e+01 |\n",
       "| So | 3.803450e+00 |\n",
       "| Ed | 1.883243e+02 |\n",
       "| Po1 | 1.928043e+02 |\n",
       "| Po2 | 1.094219e+02 |\n",
       "| LF | 6.638261e+02 |\n",
       "| M.F | 1.740686e+01 |\n",
       "| Pop | 7.330081e-01 |\n",
       "| NW | 4.204461e+00 |\n",
       "| U1 | 5.827103e+03 |\n",
       "| U2 | 1.677997e+02 |\n",
       "| Wealth | 9.616624e-02 |\n",
       "| Ineq | 7.067210e+01 |\n",
       "| Prob | 4.855266e+03 |\n",
       "| Time | 3.479018e+00 |\n",
       "\n"
      ],
      "text/plain": [
       "            .           \n",
       "(Intercept) 5.984288e+03\n",
       "M           8.783017e+01\n",
       "So          3.803450e+00\n",
       "Ed          1.883243e+02\n",
       "Po1         1.928043e+02\n",
       "Po2         1.094219e+02\n",
       "LF          6.638261e+02\n",
       "M.F         1.740686e+01\n",
       "Pop         7.330081e-01\n",
       "NW          4.204461e+00\n",
       "U1          5.827103e+03\n",
       "U2          1.677997e+02\n",
       "Wealth      9.616624e-02\n",
       "Ineq        7.067210e+01\n",
       "Prob        4.855266e+03\n",
       "Time        3.479018e+00"
      ]
     },
     "metadata": {},
     "output_type": "display_data"
    }
   ],
   "source": [
    "# Build linear regression model on full data with 15 factors\n",
    "set.seed(42)\n",
    "model_1 <- lm(Crime ~ ., data = uscrime)\n",
    "\n",
    "# Model coeffs\n",
    "model_1$coefficients %>% abs() %>% as.data.frame()"
   ]
  },
  {
   "cell_type": "markdown",
   "metadata": {},
   "source": [
    "By inspecting the model's coefficients, we can see which factors are more important than the others"
   ]
  },
  {
   "cell_type": "code",
   "execution_count": 5,
   "metadata": {},
   "outputs": [
    {
     "data": {
      "text/plain": [
       "\n",
       "Call:\n",
       "lm(formula = Crime ~ ., data = uscrime)\n",
       "\n",
       "Residuals:\n",
       "    Min      1Q  Median      3Q     Max \n",
       "-395.74  -98.09   -6.69  112.99  512.67 \n",
       "\n",
       "Coefficients:\n",
       "              Estimate Std. Error t value Pr(>|t|)    \n",
       "(Intercept) -5.984e+03  1.628e+03  -3.675 0.000893 ***\n",
       "M            8.783e+01  4.171e+01   2.106 0.043443 *  \n",
       "So          -3.803e+00  1.488e+02  -0.026 0.979765    \n",
       "Ed           1.883e+02  6.209e+01   3.033 0.004861 ** \n",
       "Po1          1.928e+02  1.061e+02   1.817 0.078892 .  \n",
       "Po2         -1.094e+02  1.175e+02  -0.931 0.358830    \n",
       "LF          -6.638e+02  1.470e+03  -0.452 0.654654    \n",
       "M.F          1.741e+01  2.035e+01   0.855 0.398995    \n",
       "Pop         -7.330e-01  1.290e+00  -0.568 0.573845    \n",
       "NW           4.204e+00  6.481e+00   0.649 0.521279    \n",
       "U1          -5.827e+03  4.210e+03  -1.384 0.176238    \n",
       "U2           1.678e+02  8.234e+01   2.038 0.050161 .  \n",
       "Wealth       9.617e-02  1.037e-01   0.928 0.360754    \n",
       "Ineq         7.067e+01  2.272e+01   3.111 0.003983 ** \n",
       "Prob        -4.855e+03  2.272e+03  -2.137 0.040627 *  \n",
       "Time        -3.479e+00  7.165e+00  -0.486 0.630708    \n",
       "---\n",
       "Signif. codes:  0 '***' 0.001 '**' 0.01 '*' 0.05 '.' 0.1 ' ' 1\n",
       "\n",
       "Residual standard error: 209.1 on 31 degrees of freedom\n",
       "Multiple R-squared:  0.8031,\tAdjusted R-squared:  0.7078 \n",
       "F-statistic: 8.429 on 15 and 31 DF,  p-value: 3.539e-07\n"
      ]
     },
     "metadata": {},
     "output_type": "display_data"
    }
   ],
   "source": [
    "# Explore model summary\n",
    "summary(model_1)"
   ]
  },
  {
   "cell_type": "markdown",
   "metadata": {},
   "source": [
    "- Our model is using all 15 factors\n",
    "- The ${R^2}$ statistic provides a measure of how well the model is fitting the actual data. In our model, our ${R^2} =    0.8031$ or roughly `80%` of the variance found in the response column `Crime`\n",
    "- The Residual standard error is measure of the quality of the linear regression fit. It is the average amount that the response `Crime` will deviate from the true regression line. In our model, we have `Residual standard error = 209.1` on `31 degrees of freedom` (number of data points that went into the estimation)"
   ]
  },
  {
   "cell_type": "code",
   "execution_count": 6,
   "metadata": {},
   "outputs": [
    {
     "name": "stdout",
     "output_type": "stream",
     "text": [
      "Crime rate prediction using all 15 factors to build the model 155.4349 \n"
     ]
    }
   ],
   "source": [
    "# create a test dataFrame\n",
    "set.seed(42)\n",
    "test_dataFrame = data.frame(\n",
    "        M = 14.0,\n",
    "        So = 0,\n",
    "        Ed = 10.0,\n",
    "        Po1 = 12.0,\n",
    "        Po2 = 15.5,\n",
    "        LF = 0.640,\n",
    "        M.F = 94.0 ,\n",
    "        Pop = 150,\n",
    "        NW = 1.1,\n",
    "        U1 = 0.120,\n",
    "        U2 = 3.6 ,\n",
    "        Wealth = 3200, \n",
    "        Ineq = 20.1 ,\n",
    "        Prob = 0.04 ,\n",
    "        Time = 39.0\n",
    ")\n",
    "# predict the test point\n",
    "pred1 <- predict(model_1, test_dataFrame)\n",
    "cat(\"Crime rate prediction using all 15 factors to build the model\", pred1, \"\\n\")"
   ]
  },
  {
   "cell_type": "markdown",
   "metadata": {},
   "source": [
    "- Using the full 15 factors in our data to build our model led us to a crime rate prediction of `155.4349`, which is half the lowest crime rate we have in our data set. This result is most likely due to overfitting. \n",
    "- Using a 15-factor model which includes many factors that aren't significant and have high p-values, will most likely overfit our test data.\n",
    "- A rule of thumb when using a factor based model is to have at least 10 times as many data points as factors. So, since we only have 47 data points, we at most need to select about 4-5 factors for our model.\n",
    "- We can sue `PerformanceAnalytics` R package to visualize the correlation matrix chart of our dataset\n",
    "    - We will split the data column-wise to see the visualization better"
   ]
  },
  {
   "cell_type": "code",
   "execution_count": 7,
   "metadata": {},
   "outputs": [
    {
     "name": "stdout",
     "output_type": "stream",
     "text": [
      "package 'PerformanceAnalytics' successfully unpacked and MD5 sums checked\n",
      "\n",
      "The downloaded binary packages are in\n",
      "\tC:\\Users\\Siham\\AppData\\Local\\Temp\\Rtmpuw3DhL\\downloaded_packages\n"
     ]
    }
   ],
   "source": [
    "suppressWarnings(suppressMessages(install.packages(\"PerformanceAnalytics\")))\n",
    "suppressWarnings(suppressMessages(library(\"PerformanceAnalytics\")))"
   ]
  },
  {
   "cell_type": "code",
   "execution_count": 8,
   "metadata": {},
   "outputs": [
    {
     "data": {
      "image/png": "[encoded data removed]",
      "text/plain": [
       "Plot with title \"\""
      ]
     },
     "metadata": {},
     "output_type": "display_data"
    }
   ],
   "source": [
    "my_data1 <- uscrime[,1:7]\n",
    "chart.Correlation(my_data1, histogram = TRUE, pch = 25)\n"
   ]
  },
  {
   "cell_type": "code",
   "execution_count": 9,
   "metadata": {},
   "outputs": [
    {
     "data": {
      "image/png": "[encoded data removed]",
      "text/plain": [
       "Plot with title \"\""
      ]
     },
     "metadata": {},
     "output_type": "display_data"
    }
   ],
   "source": [
    "my_data2 <- uscrime[,8:15]\n",
    "chart.Correlation(my_data2, histogram = TRUE, pch = 25)"
   ]
  },
  {
   "cell_type": "markdown",
   "metadata": {},
   "source": [
    "The correlation charts above show the factors that are significant (ones with 2-3 asterisks)\n",
    "\n",
    "We can pick a combination of factors that have the lowest p-values, and choose 5-6 from them to use in our reduced model\n",
    "\n",
    "|Variable\t \t|Description|\n",
    "| ---           | ---       |\n",
    "|M\t\t        |percentage of males aged 14–24 in total state population|\n",
    "|Ed\t\t        |mean years of schooling of the population aged 25 years or over|\n",
    "|Po1\t\t    |per capita expenditure on police protection in 1960|\n",
    "|U2\t\t        |unemployment rate of urban males 35–39|\n",
    "|U1\t\t        |unemployment rate of urban males 14–24|\n",
    "|Wealth\t\t    |median value of transferable assets or family income|\n",
    "|Ineq\t\t    |income inequality: percentage of families earning below half the median income|\n",
    "|Prob\t\t    |probability of imprisonment: ratio of number of commitments to number of offenses|\n",
    "|So\t\t        |indicator variable for a southern state|\n"
   ]
  },
  {
   "cell_type": "code",
   "execution_count": 10,
   "metadata": {},
   "outputs": [
    {
     "name": "stdout",
     "output_type": "stream",
     "text": [
      "predicted crime rate is:  1304.245"
     ]
    }
   ],
   "source": [
    "# build regression model\n",
    "set.seed(42)\n",
    "model_2 <- lm(Crime ~ + M + Ed + Po1 + U2 + Ineq + Prob, data = uscrime)\n",
    "pred_2 <- predict(model_2, test_dataFrame)\n",
    "\n",
    "cat(\"predicted crime rate is: \", pred_2)"
   ]
  },
  {
   "cell_type": "code",
   "execution_count": 11,
   "metadata": {},
   "outputs": [
    {
     "data": {
      "text/plain": [
       "\n",
       "Call:\n",
       "lm(formula = Crime ~ +M + Ed + Po1 + U2 + Ineq + Prob, data = uscrime)\n",
       "\n",
       "Residuals:\n",
       "    Min      1Q  Median      3Q     Max \n",
       "-470.68  -78.41  -19.68  133.12  556.23 \n",
       "\n",
       "Coefficients:\n",
       "            Estimate Std. Error t value Pr(>|t|)    \n",
       "(Intercept) -5040.50     899.84  -5.602 1.72e-06 ***\n",
       "M             105.02      33.30   3.154  0.00305 ** \n",
       "Ed            196.47      44.75   4.390 8.07e-05 ***\n",
       "Po1           115.02      13.75   8.363 2.56e-10 ***\n",
       "U2             89.37      40.91   2.185  0.03483 *  \n",
       "Ineq           67.65      13.94   4.855 1.88e-05 ***\n",
       "Prob        -3801.84    1528.10  -2.488  0.01711 *  \n",
       "---\n",
       "Signif. codes:  0 '***' 0.001 '**' 0.01 '*' 0.05 '.' 0.1 ' ' 1\n",
       "\n",
       "Residual standard error: 200.7 on 40 degrees of freedom\n",
       "Multiple R-squared:  0.7659,\tAdjusted R-squared:  0.7307 \n",
       "F-statistic: 21.81 on 6 and 40 DF,  p-value: 3.418e-11\n"
      ]
     },
     "metadata": {},
     "output_type": "display_data"
    }
   ],
   "source": [
    "summary(model_2)"
   ]
  },
  {
   "cell_type": "code",
   "execution_count": 12,
   "metadata": {},
   "outputs": [
    {
     "name": "stdout",
     "output_type": "stream",
     "text": [
      "predicted crime rate is:  1381.844"
     ]
    }
   ],
   "source": [
    "set.seed(42)\n",
    "model_3 <- lm(Crime ~ M + Ed + Po1 + U1 + Ineq + Prob, data=uscrime)\n",
    "pred_3 <- predict(model_3, test_dataFrame)\n",
    "\n",
    "cat(\"predicted crime rate is: \", pred_3)\n"
   ]
  },
  {
   "cell_type": "code",
   "execution_count": 13,
   "metadata": {},
   "outputs": [
    {
     "data": {
      "text/plain": [
       "\n",
       "Call:\n",
       "lm(formula = Crime ~ M + Ed + Po1 + U1 + Ineq + Prob, data = uscrime)\n",
       "\n",
       "Residuals:\n",
       "    Min      1Q  Median      3Q     Max \n",
       "-520.02 -105.29    0.92  120.65  546.47 \n",
       "\n",
       "Coefficients:\n",
       "            Estimate Std. Error t value Pr(>|t|)    \n",
       "(Intercept) -4453.70     888.74  -5.011 1.14e-05 ***\n",
       "M              89.60      33.78   2.652 0.011406 *  \n",
       "Ed            163.61      43.43   3.767 0.000533 ***\n",
       "Po1           123.58      14.19   8.707 8.93e-11 ***\n",
       "U1           1959.71    1792.65   1.093 0.280850    \n",
       "Ineq           68.76      14.53   4.732 2.77e-05 ***\n",
       "Prob        -3878.41    1592.80  -2.435 0.019447 *  \n",
       "---\n",
       "Signif. codes:  0 '***' 0.001 '**' 0.01 '*' 0.05 '.' 0.1 ' ' 1\n",
       "\n",
       "Residual standard error: 209.2 on 40 degrees of freedom\n",
       "Multiple R-squared:  0.7455,\tAdjusted R-squared:  0.7074 \n",
       "F-statistic: 19.53 on 6 and 40 DF,  p-value: 1.719e-10\n"
      ]
     },
     "metadata": {},
     "output_type": "display_data"
    }
   ],
   "source": [
    "summary(model_3)"
   ]
  },
  {
   "cell_type": "code",
   "execution_count": 14,
   "metadata": {},
   "outputs": [
    {
     "name": "stdout",
     "output_type": "stream",
     "text": [
      "predicted crime rate is:  1094.202"
     ]
    }
   ],
   "source": [
    "set.seed(42)\n",
    "model_4 <- lm(Crime ~ M + Ed + Po1 + U1 + U2 + Prob, data=uscrime)\n",
    "\n",
    "pred_4 <- predict(model_4, test_dataFrame)\n",
    "\n",
    "cat(\"predicted crime rate is: \", pred_4)\n"
   ]
  },
  {
   "cell_type": "code",
   "execution_count": 15,
   "metadata": {},
   "outputs": [
    {
     "data": {
      "text/plain": [
       "\n",
       "Call:\n",
       "lm(formula = Crime ~ M + Ed + Po1 + U1 + U2 + Prob, data = uscrime)\n",
       "\n",
       "Residuals:\n",
       "    Min      1Q  Median      3Q     Max \n",
       "-647.63 -138.83  -37.49  165.17  514.52 \n",
       "\n",
       "Coefficients:\n",
       "            Estimate Std. Error t value Pr(>|t|)    \n",
       "(Intercept) -3135.52     990.12  -3.167  0.00295 ** \n",
       "M             155.32      39.23   3.960  0.00030 ***\n",
       "Ed            108.45      52.75   2.056  0.04635 *  \n",
       "Po1            81.68      18.48   4.420 7.36e-05 ***\n",
       "U1          -4706.39    3741.52  -1.258  0.21573    \n",
       "U2            185.81      89.02   2.087  0.04328 *  \n",
       "Prob        -2840.35    1876.56  -1.514  0.13799    \n",
       "---\n",
       "Signif. codes:  0 '***' 0.001 '**' 0.01 '*' 0.05 '.' 0.1 ' ' 1\n",
       "\n",
       "Residual standard error: 248.1 on 40 degrees of freedom\n",
       "Multiple R-squared:  0.6421,\tAdjusted R-squared:  0.5884 \n",
       "F-statistic: 11.96 on 6 and 40 DF,  p-value: 1.196e-07\n"
      ]
     },
     "metadata": {},
     "output_type": "display_data"
    }
   ],
   "source": [
    "summary(model_4)"
   ]
  },
  {
   "cell_type": "markdown",
   "metadata": {},
   "source": [
    "One can also use the `step()` on the 15-factor model to pick the optimal factors to use in the regression model"
   ]
  },
  {
   "cell_type": "code",
   "execution_count": 16,
   "metadata": {},
   "outputs": [
    {
     "name": "stdout",
     "output_type": "stream",
     "text": [
      "Start:  AIC=514.65\n",
      "Crime ~ M + So + Ed + Po1 + Po2 + LF + M.F + Pop + NW + U1 + \n",
      "    U2 + Wealth + Ineq + Prob + Time\n",
      "\n",
      "         Df Sum of Sq     RSS    AIC\n",
      "- So      1        29 1354974 512.65\n",
      "- LF      1      8917 1363862 512.96\n",
      "- Time    1     10304 1365250 513.00\n",
      "- Pop     1     14122 1369068 513.14\n",
      "- NW      1     18395 1373341 513.28\n",
      "- M.F     1     31967 1386913 513.74\n",
      "- Wealth  1     37613 1392558 513.94\n",
      "- Po2     1     37919 1392865 513.95\n",
      "<none>                1354946 514.65\n",
      "- U1      1     83722 1438668 515.47\n",
      "- Po1     1    144306 1499252 517.41\n",
      "- U2      1    181536 1536482 518.56\n",
      "- M       1    193770 1548716 518.93\n",
      "- Prob    1    199538 1554484 519.11\n",
      "- Ed      1    402117 1757063 524.86\n",
      "- Ineq    1    423031 1777977 525.42\n",
      "\n",
      "Step:  AIC=512.65\n",
      "Crime ~ M + Ed + Po1 + Po2 + LF + M.F + Pop + NW + U1 + U2 + \n",
      "    Wealth + Ineq + Prob + Time\n",
      "\n",
      "         Df Sum of Sq     RSS    AIC\n",
      "- Time    1     10341 1365315 511.01\n",
      "- LF      1     10878 1365852 511.03\n",
      "- Pop     1     14127 1369101 511.14\n",
      "- NW      1     21626 1376600 511.39\n",
      "- M.F     1     32449 1387423 511.76\n",
      "- Po2     1     37954 1392929 511.95\n",
      "- Wealth  1     39223 1394197 511.99\n",
      "<none>                1354974 512.65\n",
      "- U1      1     96420 1451395 513.88\n",
      "- Po1     1    144302 1499277 515.41\n",
      "- U2      1    189859 1544834 516.81\n",
      "- M       1    195084 1550059 516.97\n",
      "- Prob    1    204463 1559437 517.26\n",
      "- Ed      1    403140 1758114 522.89\n",
      "- Ineq    1    488834 1843808 525.13\n",
      "\n",
      "Step:  AIC=511.01\n",
      "Crime ~ M + Ed + Po1 + Po2 + LF + M.F + Pop + NW + U1 + U2 + \n",
      "    Wealth + Ineq + Prob\n",
      "\n",
      "         Df Sum of Sq     RSS    AIC\n",
      "- LF      1     10533 1375848 509.37\n",
      "- NW      1     15482 1380797 509.54\n",
      "- Pop     1     21846 1387161 509.75\n",
      "- Po2     1     28932 1394247 509.99\n",
      "- Wealth  1     36070 1401385 510.23\n",
      "- M.F     1     41784 1407099 510.42\n",
      "<none>                1365315 511.01\n",
      "- U1      1     91420 1456735 512.05\n",
      "- Po1     1    134137 1499452 513.41\n",
      "- U2      1    184143 1549458 514.95\n",
      "- M       1    186110 1551425 515.01\n",
      "- Prob    1    237493 1602808 516.54\n",
      "- Ed      1    409448 1774763 521.33\n",
      "- Ineq    1    502909 1868224 523.75\n",
      "\n",
      "Step:  AIC=509.37\n",
      "Crime ~ M + Ed + Po1 + Po2 + M.F + Pop + NW + U1 + U2 + Wealth + \n",
      "    Ineq + Prob\n",
      "\n",
      "         Df Sum of Sq     RSS    AIC\n",
      "- NW      1     11675 1387523 507.77\n",
      "- Po2     1     21418 1397266 508.09\n",
      "- Pop     1     27803 1403651 508.31\n",
      "- M.F     1     31252 1407100 508.42\n",
      "- Wealth  1     35035 1410883 508.55\n",
      "<none>                1375848 509.37\n",
      "- U1      1     80954 1456802 510.06\n",
      "- Po1     1    123896 1499744 511.42\n",
      "- U2      1    190746 1566594 513.47\n",
      "- M       1    217716 1593564 514.27\n",
      "- Prob    1    226971 1602819 514.54\n",
      "- Ed      1    413254 1789103 519.71\n",
      "- Ineq    1    500944 1876792 521.96\n",
      "\n",
      "Step:  AIC=507.77\n",
      "Crime ~ M + Ed + Po1 + Po2 + M.F + Pop + U1 + U2 + Wealth + Ineq + \n",
      "    Prob\n",
      "\n",
      "         Df Sum of Sq     RSS    AIC\n",
      "- Po2     1     16706 1404229 506.33\n",
      "- Pop     1     25793 1413315 506.63\n",
      "- M.F     1     26785 1414308 506.66\n",
      "- Wealth  1     31551 1419073 506.82\n",
      "<none>                1387523 507.77\n",
      "- U1      1     83881 1471404 508.52\n",
      "- Po1     1    118348 1505871 509.61\n",
      "- U2      1    201453 1588976 512.14\n",
      "- Prob    1    216760 1604282 512.59\n",
      "- M       1    309214 1696737 515.22\n",
      "- Ed      1    402754 1790276 517.74\n",
      "- Ineq    1    589736 1977259 522.41\n",
      "\n",
      "Step:  AIC=506.33\n",
      "Crime ~ M + Ed + Po1 + M.F + Pop + U1 + U2 + Wealth + Ineq + \n",
      "    Prob\n",
      "\n",
      "         Df Sum of Sq     RSS    AIC\n",
      "- Pop     1     22345 1426575 505.07\n",
      "- Wealth  1     32142 1436371 505.39\n",
      "- M.F     1     36808 1441037 505.54\n",
      "<none>                1404229 506.33\n",
      "- U1      1     86373 1490602 507.13\n",
      "- U2      1    205814 1610043 510.76\n",
      "- Prob    1    218607 1622836 511.13\n",
      "- M       1    307001 1711230 513.62\n",
      "- Ed      1    389502 1793731 515.83\n",
      "- Ineq    1    608627 2012856 521.25\n",
      "- Po1     1   1050202 2454432 530.57\n",
      "\n",
      "Step:  AIC=505.07\n",
      "Crime ~ M + Ed + Po1 + M.F + U1 + U2 + Wealth + Ineq + Prob\n",
      "\n",
      "         Df Sum of Sq     RSS    AIC\n",
      "- Wealth  1     26493 1453068 503.93\n",
      "<none>                1426575 505.07\n",
      "- M.F     1     84491 1511065 505.77\n",
      "- U1      1     99463 1526037 506.24\n",
      "- Prob    1    198571 1625145 509.20\n",
      "- U2      1    208880 1635455 509.49\n",
      "- M       1    320926 1747501 512.61\n",
      "- Ed      1    386773 1813348 514.35\n",
      "- Ineq    1    594779 2021354 519.45\n",
      "- Po1     1   1127277 2553852 530.44\n",
      "\n",
      "Step:  AIC=503.93\n",
      "Crime ~ M + Ed + Po1 + M.F + U1 + U2 + Ineq + Prob\n",
      "\n",
      "       Df Sum of Sq     RSS    AIC\n",
      "<none>              1453068 503.93\n",
      "- M.F   1    103159 1556227 505.16\n",
      "- U1    1    127044 1580112 505.87\n",
      "- Prob  1    247978 1701046 509.34\n",
      "- U2    1    255443 1708511 509.55\n",
      "- M     1    296790 1749858 510.67\n",
      "- Ed    1    445788 1898855 514.51\n",
      "- Ineq  1    738244 2191312 521.24\n",
      "- Po1   1   1672038 3125105 537.93\n"
     ]
    },
    {
     "data": {
      "text/plain": [
       "\n",
       "Call:\n",
       "lm(formula = Crime ~ M + Ed + Po1 + M.F + U1 + U2 + Ineq + Prob, \n",
       "    data = uscrime)\n",
       "\n",
       "Coefficients:\n",
       "(Intercept)            M           Ed          Po1          M.F           U1  \n",
       "   -6426.10        93.32       180.12       102.65        22.34     -6086.63  \n",
       "         U2         Ineq         Prob  \n",
       "     187.35        61.33     -3796.03  \n"
      ]
     },
     "metadata": {},
     "output_type": "display_data"
    }
   ],
   "source": [
    "step(model_1)"
   ]
  },
  {
   "cell_type": "markdown",
   "metadata": {},
   "source": [
    "The `step()` regression had the lowets AIC score for (M + Ed + Po1 + M.F + U1 + U2 + Ineq + Prob) as factors for the model"
   ]
  },
  {
   "cell_type": "code",
   "execution_count": 17,
   "metadata": {},
   "outputs": [
    {
     "data": {
      "text/plain": [
       "\n",
       "Call:\n",
       "lm(formula = Crime ~ M + Ed + Po1 + M.F + U1 + U2 + Ineq + Prob, \n",
       "    data = uscrime)\n",
       "\n",
       "Residuals:\n",
       "    Min      1Q  Median      3Q     Max \n",
       "-444.70 -111.07    3.03  122.15  483.30 \n",
       "\n",
       "Coefficients:\n",
       "            Estimate Std. Error t value Pr(>|t|)    \n",
       "(Intercept) -6426.10    1194.61  -5.379 4.04e-06 ***\n",
       "M              93.32      33.50   2.786  0.00828 ** \n",
       "Ed            180.12      52.75   3.414  0.00153 ** \n",
       "Po1           102.65      15.52   6.613 8.26e-08 ***\n",
       "M.F            22.34      13.60   1.642  0.10874    \n",
       "U1          -6086.63    3339.27  -1.823  0.07622 .  \n",
       "U2            187.35      72.48   2.585  0.01371 *  \n",
       "Ineq           61.33      13.96   4.394 8.63e-05 ***\n",
       "Prob        -3796.03    1490.65  -2.547  0.01505 *  \n",
       "---\n",
       "Signif. codes:  0 '***' 0.001 '**' 0.01 '*' 0.05 '.' 0.1 ' ' 1\n",
       "\n",
       "Residual standard error: 195.5 on 38 degrees of freedom\n",
       "Multiple R-squared:  0.7888,\tAdjusted R-squared:  0.7444 \n",
       "F-statistic: 17.74 on 8 and 38 DF,  p-value: 1.159e-10\n"
      ]
     },
     "metadata": {},
     "output_type": "display_data"
    }
   ],
   "source": [
    "model_5 <- lm(formula = Crime ~ M + Ed + Po1 + M.F + U1 + U2 + Ineq + Prob, \n",
    "        data = uscrime)\n",
    "summary(model_5)"
   ]
  },
  {
   "cell_type": "code",
   "execution_count": 18,
   "metadata": {},
   "outputs": [
    {
     "name": "stdout",
     "output_type": "stream",
     "text": [
      "predicted crime rate is:  1038.413"
     ]
    }
   ],
   "source": [
    "pred_5 <- predict(model_5, test_dataFrame)\n",
    "\n",
    "cat(\"predicted crime rate is: \", pred_5)"
   ]
  },
  {
   "cell_type": "markdown",
   "metadata": {},
   "source": [
    "<font color=\"brown\"><strong>Summary of all models used and their crime rate prediction </strong></font>\n",
    "\n",
    "|Factors used | City crime rate prediction |R-squared |Adjusted R-squared|\n",
    "| --- | --- | --- | --- |\n",
    "|model with 15 factors |155 |0.803 | 0.708|\n",
    "|model with only M + Ed + Po1 + U2 + Ineq + Prob |1304|0.766| 0.731| \n",
    "|model with M + Ed + Po1 + U1 + Ineq + Prob|1382|0.746 | 0.707|\n",
    "|model with M + Ed + Po1 + U1 + U2 + Prob|1094|0.642|0.588|\n",
    "|model with M + Ed + Po1 + M.F + U1 + U2 + Ineq + Prob|1038|0.789|0.744|\n",
    "\n",
    "<br>\n",
    "Here, we see that using `M + Ed + Po1 + U1 + U2 + Prob` as factors led to the lowerst R - squared value compared to our original 15-factor model and our crime prediction is `1094` which is not unusual given the data we have. However, how do we assess how good our model is? We cant just take the R - squared value as a measure of how well our model fits our data without doing any kind of validation.\n",
    "\n",
    "Below, I will be using some of validation techniques we learned in week1.\n",
    "We will assess the model that has the lowest R- squared from above and the 15 - factor model"
   ]
  },
  {
   "cell_type": "code",
   "execution_count": 19,
   "metadata": {},
   "outputs": [],
   "source": [
    "suppressWarnings(suppressMessages(library(tidyverse)))\n",
    "suppressWarnings(suppressMessages(library(caret)))"
   ]
  },
  {
   "cell_type": "markdown",
   "metadata": {},
   "source": [
    "### Leave one out cross validation - LOOCV"
   ]
  },
  {
   "cell_type": "code",
   "execution_count": 20,
   "metadata": {},
   "outputs": [
    {
     "name": "stdout",
     "output_type": "stream",
     "text": [
      "Linear Regression \n",
      "\n",
      "47 samples\n",
      "15 predictors\n",
      "\n",
      "No pre-processing\n",
      "Resampling: Leave-One-Out Cross-Validation \n",
      "Summary of sample sizes: 46, 46, 46, 46, 46, 46, ... \n",
      "Resampling results:\n",
      "\n",
      "  RMSE     Rsquared   MAE     \n",
      "  274.424  0.5265155  209.0678\n",
      "\n",
      "Tuning parameter 'intercept' was held constant at a value of TRUE\n",
      "Linear Regression \n",
      "\n",
      "47 samples\n",
      " 6 predictor\n",
      "\n",
      "No pre-processing\n",
      "Resampling: Leave-One-Out Cross-Validation \n",
      "Summary of sample sizes: 46, 46, 46, 46, 46, 46, ... \n",
      "Resampling results:\n",
      "\n",
      "  RMSE      Rsquared   MAE     \n",
      "  267.9327  0.5179779  216.0377\n",
      "\n",
      "Tuning parameter 'intercept' was held constant at a value of TRUE\n"
     ]
    }
   ],
   "source": [
    "# Define training control\n",
    "set.seed(42) \n",
    "train.control <- trainControl(method = \"LOOCV\")\n",
    "# Train the model\n",
    "model_loov_15_factor <- train(Crime ~ ., data = uscrime, method = \"lm\",\n",
    "               trControl = train.control)\n",
    "# Summarize the results\n",
    "print(model_loov_15_factor)\n",
    "\n",
    "\n",
    "# Train the model\n",
    "model_loov_reduced <- train(Crime ~ M + Ed + Po1 + U1 + U2 + Prob, data = uscrime, method = \"lm\",\n",
    "               trControl = train.control)\n",
    "# Summarize the results\n",
    "print(model_loov_reduced)"
   ]
  },
  {
   "cell_type": "markdown",
   "metadata": {},
   "source": [
    "### K-fold cross-validation"
   ]
  },
  {
   "cell_type": "code",
   "execution_count": 21,
   "metadata": {},
   "outputs": [
    {
     "name": "stdout",
     "output_type": "stream",
     "text": [
      "Linear Regression \n",
      "\n",
      "47 samples\n",
      "15 predictors\n",
      "\n",
      "No pre-processing\n",
      "Resampling: Cross-Validated (10 fold) \n",
      "Summary of sample sizes: 42, 42, 42, 43, 42, 44, ... \n",
      "Resampling results:\n",
      "\n",
      "  RMSE      Rsquared   MAE     \n",
      "  253.4865  0.5549432  207.4127\n",
      "\n",
      "Tuning parameter 'intercept' was held constant at a value of TRUE\n",
      "Linear Regression \n",
      "\n",
      "47 samples\n",
      " 6 predictor\n",
      "\n",
      "No pre-processing\n",
      "Resampling: Cross-Validated (10 fold) \n",
      "Summary of sample sizes: 42, 42, 41, 43, 43, 42, ... \n",
      "Resampling results:\n",
      "\n",
      "  RMSE      Rsquared   MAE     \n",
      "  256.6908  0.5768985  212.5164\n",
      "\n",
      "Tuning parameter 'intercept' was held constant at a value of TRUE\n"
     ]
    }
   ],
   "source": [
    "# Define training control\n",
    "set.seed(42) \n",
    "train.control <- trainControl(method = \"cv\", number = 10)\n",
    "# Train the model\n",
    "model_kfold_15_factor <- train(Crime ~., data = uscrime, method = \"lm\",\n",
    "               trControl = train.control)\n",
    "# Summarize the results\n",
    "print(model_kfold_15_factor)\n",
    "\n",
    "# Train the model\n",
    "model_kfold_reduced <- train(Crime ~ M + Ed + Po1 + U1 + U2 + Prob, data = uscrime, method = \"lm\",\n",
    "               trControl = train.control)\n",
    "# Summarize the results\n",
    "print(model_kfold_reduced)"
   ]
  },
  {
   "cell_type": "markdown",
   "metadata": {},
   "source": [
    "### Repeated K-fold cross-validation"
   ]
  },
  {
   "cell_type": "code",
   "execution_count": 22,
   "metadata": {},
   "outputs": [
    {
     "name": "stdout",
     "output_type": "stream",
     "text": [
      "Linear Regression \n",
      "\n",
      "47 samples\n",
      "15 predictors\n",
      "\n",
      "No pre-processing\n",
      "Resampling: Cross-Validated (5 fold, repeated 10 times) \n",
      "Summary of sample sizes: 37, 38, 38, 38, 37, 38, ... \n",
      "Resampling results:\n",
      "\n",
      "  RMSE      Rsquared   MAE     \n",
      "  291.4658  0.5046935  227.7499\n",
      "\n",
      "Tuning parameter 'intercept' was held constant at a value of TRUE\n",
      "Linear Regression \n",
      "\n",
      "47 samples\n",
      " 6 predictor\n",
      "\n",
      "No pre-processing\n",
      "Resampling: Cross-Validated (5 fold, repeated 10 times) \n",
      "Summary of sample sizes: 36, 38, 38, 38, 38, 37, ... \n",
      "Resampling results:\n",
      "\n",
      "  RMSE      Rsquared   MAE     \n",
      "  264.4707  0.5670326  216.2465\n",
      "\n",
      "Tuning parameter 'intercept' was held constant at a value of TRUE\n"
     ]
    }
   ],
   "source": [
    "# Define training control\n",
    "set.seed(42) \n",
    "train.control <- trainControl(method = \"repeatedcv\", \n",
    "                              number = 5, repeats = 10)\n",
    "# Train the model\n",
    "model_kfold_repeated_15_factor <- train(Crime ~., data = uscrime, method = \"lm\",\n",
    "               trControl = train.control)\n",
    "# Summarize the results\n",
    "print(model_kfold_repeated_15_factor)\n",
    "\n",
    "# Train the model\n",
    "model_kfold_repeated_reduced <- train(Crime ~ M + Ed + Po1 + U1 + U2 + Prob, data = uscrime, method = \"lm\",\n",
    "               trControl = train.control)\n",
    "# Summarize the results\n",
    "print(model_kfold_repeated_reduced)"
   ]
  },
  {
   "cell_type": "markdown",
   "metadata": {},
   "source": [
    "### Summary for the model validation:\n",
    "\n",
    "|Model|Type of cross validation |RMSE  | Rsquared| \n",
    "| --- | ---| ---| --- | \n",
    "| 15-factor model|Repeated K-fold cross-validation|291|   0.505| \n",
    "|Reduced model|Repeated K-fold cross-validation|264|   0.567|\n",
    "| 15-factor model|K-fold cross-validation| 253 |  0.555|\n",
    "|Reduced model|K-fold cross-validation|257 |  0.577|\n",
    "| 15-factor model|Leave one out cross validation - LOOCV| 274|   0.527| \n",
    "|Reduced model|Leave one out cross validation - LOOCV|268|   0.518|\n",
    "\n",
    "comparing the R-squared values from non-validated model vs the validated ones, we can see that we always need to validate our model and not blindly take R-squared as a performance metric of how good our model is because we risk overfitting."
   ]
  },
  {
   "cell_type": "code",
   "execution_count": null,
   "metadata": {},
   "outputs": [],
   "source": []
  }
 ],
 "metadata": {
  "kernelspec": {
   "display_name": "R",
   "language": "R",
   "name": "ir"
  },
  "language_info": {
   "codemirror_mode": "r",
   "file_extension": ".r",
   "mimetype": "text/x-r-source",
   "name": "R",
   "pygments_lexer": "r",
   "version": "3.6.1"
  }
 },
 "nbformat": 4,
 "nbformat_minor": 2
}
